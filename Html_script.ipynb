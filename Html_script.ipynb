{
 "cells": [
  {
   "cell_type": "code",
   "execution_count": 19,
   "id": "23e8174f",
   "metadata": {},
   "outputs": [],
   "source": [
    "import os \n",
    "import time\n",
    "import requests #---Help us to download particular page in form of HTML\n",
    "import sys"
   ]
  },
  {
   "cell_type": "code",
   "execution_count": 20,
   "id": "1289840e",
   "metadata": {},
   "outputs": [],
   "source": [
    "def retrieve_html():\n",
    "    for year in range(2013, 2019):\n",
    "        for month in range(1,13):\n",
    "            if month < 10:\n",
    "                url = 'https://en.tutiempo.net/climate/0{}-{}/ws-432950.html'.format(month, year)\n",
    "            else:\n",
    "                url = 'https://en.tutiempo.net/climate/{}-{}/ws-432950.html'.format(month, year)\n",
    "        \n",
    "            texts = requests.get(url) #requesting for the HTML page\n",
    "            text_utf = texts.text.encode('utf-8')  \n",
    "        \n",
    "        \n",
    "            if not os.path.exists('./Data/Html_Data/{}'.format(year)): #checking the folder is present or not if not creating it. \n",
    "                os.makedirs('./Data/Html_Data/{}'.format(year))\n",
    "        \n",
    "            with open('./Data/Html_Data/{}/{}.html'.format(year, month), 'wb') as output: #opening the HTML file in write-byte mode\n",
    "                output.write(text_utf) #writing the endoed HTML page in text_utf here. \n",
    "            \n",
    "        sys.stdout.flush()"
   ]
  },
  {
   "cell_type": "code",
   "execution_count": 21,
   "id": "c091e067",
   "metadata": {},
   "outputs": [
    {
     "name": "stdout",
     "output_type": "stream",
     "text": [
      "Time Taken 96.17995309829712.\n"
     ]
    }
   ],
   "source": [
    "if __name__== '__main__':\n",
    "    start_time = time.time()\n",
    "    retrieve_html()\n",
    "    stop_time = time.time()\n",
    "    \n",
    "    print('Time Taken {}.'.format(stop_time - start_time))"
   ]
  },
  {
   "cell_type": "code",
   "execution_count": null,
   "id": "30d0c982",
   "metadata": {},
   "outputs": [],
   "source": []
  }
 ],
 "metadata": {
  "kernelspec": {
   "display_name": "Python 3 (ipykernel)",
   "language": "python",
   "name": "python3"
  },
  "language_info": {
   "codemirror_mode": {
    "name": "ipython",
    "version": 3
   },
   "file_extension": ".py",
   "mimetype": "text/x-python",
   "name": "python",
   "nbconvert_exporter": "python",
   "pygments_lexer": "ipython3",
   "version": "3.9.13"
  }
 },
 "nbformat": 4,
 "nbformat_minor": 5
}
